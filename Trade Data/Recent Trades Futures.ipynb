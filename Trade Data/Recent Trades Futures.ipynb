{
 "cells": [
  {
   "cell_type": "code",
   "execution_count": null,
   "id": "90af3739",
   "metadata": {},
   "outputs": [],
   "source": [
    "import os, requests, hmac, hashlib, json\n",
    "from urllib.parse import urlencode\n",
    "\n",
    "\n",
    "api_key = os.environ.get('api_key')\n",
    "api_secret = os.environ.get('api_secret_key')"
   ]
  },
  {
   "cell_type": "code",
   "execution_count": null,
   "id": "ec6d0ab2",
   "metadata": {},
   "outputs": [],
   "source": [
    "def bin_auth(api_key, api_secret, params, endpoint):\n",
    "    '''\n",
    "    Authenticate.\n",
    "    Input:  api_key : str\n",
    "            api_secret : str\n",
    "            params : dict\n",
    "            endpoint : str\n",
    "    Return: url, headers\n",
    "    '''\n",
    "    signature = hmac.new(api_secret.encode('utf-8'), urlencode(params).encode('utf-8'), hashlib.sha256).hexdigest()\n",
    "    url = str(endpoint) + urlencode(params) + f\"&signature={signature}\"\n",
    "    headers = {'Content-Type': 'application/json;charset=utf-8',\n",
    "               'X-MBX-APIKEY': api_key\n",
    "            }\n",
    "    return url, headers"
   ]
  },
  {
   "cell_type": "code",
   "execution_count": null,
   "id": "54b5490e",
   "metadata": {},
   "outputs": [],
   "source": [
    "endpoint = \"https://fapi.binance.com/fapi/v1/trades?\"\n",
    "\n",
    "params = {\"symbol\":\"ADAUSDT\",\n",
    "          \"limit\":3}\n",
    "\n",
    "auth = bin_auth(api_key, api_secret, params, endpoint)\n",
    "\n",
    "trades = requests.get(url=auth[0],\n",
    "                      headers=auth[1]\n",
    "                     ).json()\n",
    "trades"
   ]
  }
 ],
 "metadata": {
  "kernelspec": {
   "display_name": "Python 3",
   "language": "python",
   "name": "python3"
  },
  "language_info": {
   "codemirror_mode": {
    "name": "ipython",
    "version": 3
   },
   "file_extension": ".py",
   "mimetype": "text/x-python",
   "name": "python",
   "nbconvert_exporter": "python",
   "pygments_lexer": "ipython3",
   "version": "3.8.3"
  }
 },
 "nbformat": 4,
 "nbformat_minor": 5
}
