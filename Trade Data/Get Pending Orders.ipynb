{
 "cells": [
  {
   "cell_type": "code",
   "execution_count": null,
   "id": "d8d607ff",
   "metadata": {},
   "outputs": [],
   "source": [
    "import os\n",
    "from binance.client import Client\n",
    "\n",
    "api_key = os.environ.get('api_key')\n",
    "api_secret = os.environ.get('api_secret_key')\n",
    "\n",
    "client = Client(api_key=api_key, api_secret=api_secret)"
   ]
  },
  {
   "cell_type": "code",
   "execution_count": null,
   "id": "69261526",
   "metadata": {},
   "outputs": [],
   "source": [
    "order = client.get_open_orders(symbol='BTCUSDC')\n",
    "order"
   ]
  }
 ],
 "metadata": {
  "kernelspec": {
   "display_name": "Python 3",
   "language": "python",
   "name": "python3"
  },
  "language_info": {
   "codemirror_mode": {
    "name": "ipython",
    "version": 3
   },
   "file_extension": ".py",
   "mimetype": "text/x-python",
   "name": "python",
   "nbconvert_exporter": "python",
   "pygments_lexer": "ipython3",
   "version": "3.8.3"
  }
 },
 "nbformat": 4,
 "nbformat_minor": 5
}
