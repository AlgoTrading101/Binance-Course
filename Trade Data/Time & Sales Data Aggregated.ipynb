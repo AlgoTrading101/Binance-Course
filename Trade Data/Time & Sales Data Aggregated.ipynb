{
 "cells": [
  {
   "cell_type": "code",
   "execution_count": 1,
   "id": "a52676bf",
   "metadata": {},
   "outputs": [],
   "source": [
    "import os\n",
    "from binance.client import Client\n",
    "\n",
    "api_key = os.environ.get('api_key')\n",
    "api_secret = os.environ.get('api_secret')\n",
    "\n",
    "client = Client(api_key=api_key, api_secret=api_secret)"
   ]
  },
  {
   "cell_type": "code",
   "execution_count": 3,
   "id": "3c4bd008",
   "metadata": {},
   "outputs": [
    {
     "data": {
      "text/plain": [
       "[{'a': 868659684,\n",
       "  'p': '38245.45000000',\n",
       "  'q': '0.00029500',\n",
       "  'f': 984673206,\n",
       "  'l': 984673206,\n",
       "  'T': 1628019544669,\n",
       "  'm': True,\n",
       "  'M': True},\n",
       " {'a': 868659685,\n",
       "  'p': '38245.45000000',\n",
       "  'q': '0.00939300',\n",
       "  'f': 984673207,\n",
       "  'l': 984673208,\n",
       "  'T': 1628019544963,\n",
       "  'm': True,\n",
       "  'M': True}]"
      ]
     },
     "execution_count": 3,
     "metadata": {},
     "output_type": "execute_result"
    }
   ],
   "source": [
    "client.get_aggregate_trades(symbol='BTCUSDT', limit=2)"
   ]
  }
 ],
 "metadata": {
  "kernelspec": {
   "display_name": "Python 3",
   "language": "python",
   "name": "python3"
  },
  "language_info": {
   "codemirror_mode": {
    "name": "ipython",
    "version": 3
   },
   "file_extension": ".py",
   "mimetype": "text/x-python",
   "name": "python",
   "nbconvert_exporter": "python",
   "pygments_lexer": "ipython3",
   "version": "3.8.3"
  }
 },
 "nbformat": 4,
 "nbformat_minor": 5
}
