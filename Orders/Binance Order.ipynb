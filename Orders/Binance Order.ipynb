{
 "cells": [
  {
   "cell_type": "code",
   "execution_count": 1,
   "id": "ad99daa8",
   "metadata": {},
   "outputs": [],
   "source": [
    "from binance.client import Client\n",
    "from binance.enums import *\n",
    "\n",
    "api_key = 'aN9heIB2Lr00gi4Yhnixgw3ytPk6Vk0vKpbZhlIvY5ITqmAQpNoR1czppNWb4fBt'\n",
    "api_secret = 'YLuVUYQtub3xL19nazjPNsgd3OEtuEhFwL3cRct7qjQiZnfF7Rp2tHQNdM0aQEuy'\n",
    "\n",
    "client = Client(api_key=api_key, api_secret=api_secret)"
   ]
  },
  {
   "cell_type": "code",
   "execution_count": 2,
   "id": "5b03dc24",
   "metadata": {},
   "outputs": [
    {
     "data": {
      "text/plain": [
       "{'symbol': 'ETHUSDT',\n",
       " 'orderId': 4212520843,\n",
       " 'orderListId': -1,\n",
       " 'clientOrderId': 'xykrIgsIvxsbhQyVUA3txw',\n",
       " 'transactTime': 1621696225353,\n",
       " 'price': '2360.00000000',\n",
       " 'origQty': '0.00700000',\n",
       " 'executedQty': '0.00700000',\n",
       " 'cummulativeQuoteQty': '16.35473000',\n",
       " 'status': 'FILLED',\n",
       " 'timeInForce': 'GTC',\n",
       " 'type': 'LIMIT',\n",
       " 'side': 'BUY',\n",
       " 'fills': [{'price': '2336.39000000',\n",
       "   'qty': '0.00700000',\n",
       "   'commission': '0.00000700',\n",
       "   'commissionAsset': 'ETH',\n",
       "   'tradeId': 442652646}]}"
      ]
     },
     "execution_count": 2,
     "metadata": {},
     "output_type": "execute_result"
    }
   ],
   "source": [
    "order = client.create_order(\n",
    "                    symbol='ETHUSDT',\n",
    "                    side=SIDE_BUY,\n",
    "                    type=ORDER_TYPE_LIMIT,\n",
    "                    quantity=0.007,\n",
    "                    timeInForce=TIME_IN_FORCE_GTC,\n",
    "                    price='2360')\n",
    "order"
   ]
  },
  {
   "cell_type": "code",
   "execution_count": null,
   "id": "e7314aee",
   "metadata": {},
   "outputs": [],
   "source": []
  }
 ],
 "metadata": {
  "kernelspec": {
   "display_name": "Python 3",
   "language": "python",
   "name": "python3"
  },
  "language_info": {
   "codemirror_mode": {
    "name": "ipython",
    "version": 3
   },
   "file_extension": ".py",
   "mimetype": "text/x-python",
   "name": "python",
   "nbconvert_exporter": "python",
   "pygments_lexer": "ipython3",
   "version": "3.8.3"
  }
 },
 "nbformat": 4,
 "nbformat_minor": 5
}
