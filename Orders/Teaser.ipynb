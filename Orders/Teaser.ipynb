{
 "cells": [
  {
   "cell_type": "code",
   "execution_count": 1,
   "id": "2897eb62",
   "metadata": {},
   "outputs": [
    {
     "name": "stdout",
     "output_type": "stream",
     "text": [
      "Order requirement not reached. Percentage move is at -0.09514538196251476\n",
      "Order placed successfully\n",
      "{'symbol': 'ETHUSDT', 'orderId': 4236337784, 'orderListId': -1, 'clientOrderId': 'aCOtw5uoUAjm0zVtaT2BLM', 'price': '2350.00000000', 'origQty': '0.00700000', 'executedQty': '0.00000000', 'cummulativeQuoteQty': '0.00000000', 'status': 'NEW', 'timeInForce': 'GTC', 'type': 'LIMIT', 'side': 'SELL', 'stopPrice': '0.00000000', 'icebergQty': '0.00000000', 'time': 1621790165803, 'updateTime': 1621790165803, 'isWorking': True, 'origQuoteOrderQty': '0.00000000'}\n"
     ]
    }
   ],
   "source": [
    "from binance.client import Client\n",
    "from binance.enums import *\n",
    "from time import sleep\n",
    "\n",
    "api_key = 'G1XE3rWfo9QIQRLwi4LbwoN616GZmd03tDuD8DCKNFZSm4saaiU39JiRjQXVXtie'\n",
    "api_secret = 'qEaeAqoukQOs3t9ZGvXOLU9Ee2hEdrJfjz0Os4AanZJtEvfALN10kYIY2xui1pn8'\n",
    "\n",
    "client = Client(api_key=api_key, api_secret=api_secret)\n",
    "\n",
    "while True:\n",
    "\n",
    "    ticker_old = client.get_symbol_ticker(symbol='BTCUSDT')\n",
    "\n",
    "    sleep(5)\n",
    "\n",
    "    ticker_new = client.get_symbol_ticker(symbol='BTCUSDT')\n",
    "\n",
    "    percent = ((float(ticker_new['price']) - float(ticker_old['price'])) * 100) / float(ticker_old['price'])\n",
    "\n",
    "    if percent >= 0.00001:\n",
    "        \n",
    "        order = client.create_order(\n",
    "                        symbol='ETHUSDT',\n",
    "                        side=SIDE_SELL,\n",
    "                        type=ORDER_TYPE_LIMIT,\n",
    "                        quantity=0.007,\n",
    "                        timeInForce=TIME_IN_FORCE_GTC,\n",
    "                        price='2350')\n",
    "\n",
    "        sleep(2)\n",
    "\n",
    "        status = client.get_order(symbol='ETHUSDT', orderId=order['orderId'])\n",
    "\n",
    "        if status['status'] == 'FILLED' or 'NEW':\n",
    "            print('Order placed successfully')\n",
    "            print(status)\n",
    "            break\n",
    "        else:\n",
    "            print('Order was rejected')\n",
    "            break\n",
    "    else:\n",
    "        print(f'Order requirement not reached. Percentage move is at {percent}')\n",
    "        continue"
   ]
  }
 ],
 "metadata": {
  "kernelspec": {
   "display_name": "Python 3",
   "language": "python",
   "name": "python3"
  },
  "language_info": {
   "codemirror_mode": {
    "name": "ipython",
    "version": 3
   },
   "file_extension": ".py",
   "mimetype": "text/x-python",
   "name": "python",
   "nbconvert_exporter": "python",
   "pygments_lexer": "ipython3",
   "version": "3.8.3"
  }
 },
 "nbformat": 4,
 "nbformat_minor": 5
}
