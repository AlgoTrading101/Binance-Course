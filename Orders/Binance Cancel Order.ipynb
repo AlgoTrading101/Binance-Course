{
 "cells": [
  {
   "cell_type": "code",
   "execution_count": 1,
   "id": "ad99daa8",
   "metadata": {},
   "outputs": [],
   "source": [
    "from binance.client import Client\n",
    "from binance.enums import *\n",
    "\n",
    "api_key = 'aN9heIB2Lr00gi4Yhnixgw3ytPk6Vk0vKpbZhlIvY5ITqmAQpNoR1czppNWb4fBt'\n",
    "api_secret = 'YLuVUYQtub3xL19nazjPNsgd3OEtuEhFwL3cRct7qjQiZnfF7Rp2tHQNdM0aQEuy'\n",
    "\n",
    "client = Client(api_key=api_key, api_secret=api_secret)"
   ]
  },
  {
   "cell_type": "code",
   "execution_count": 2,
   "id": "5b03dc24",
   "metadata": {},
   "outputs": [
    {
     "data": {
      "text/plain": [
       "{'symbol': 'ETHUSDT',\n",
       " 'orderId': 4212776884,\n",
       " 'orderListId': -1,\n",
       " 'clientOrderId': 'G6VgmI40rNwSXinCbYvxBB',\n",
       " 'transactTime': 1621697145560,\n",
       " 'price': '2450.00000000',\n",
       " 'origQty': '0.00600000',\n",
       " 'executedQty': '0.00000000',\n",
       " 'cummulativeQuoteQty': '0.00000000',\n",
       " 'status': 'NEW',\n",
       " 'timeInForce': 'GTC',\n",
       " 'type': 'LIMIT',\n",
       " 'side': 'SELL',\n",
       " 'fills': []}"
      ]
     },
     "execution_count": 2,
     "metadata": {},
     "output_type": "execute_result"
    }
   ],
   "source": [
    "order = client.create_order(\n",
    "                    symbol='ETHUSDT',\n",
    "                    side=SIDE_SELL,\n",
    "                    type=ORDER_TYPE_LIMIT,\n",
    "                    quantity=0.006,\n",
    "                    timeInForce=TIME_IN_FORCE_GTC,\n",
    "                    price='2450')\n",
    "order"
   ]
  },
  {
   "cell_type": "code",
   "execution_count": 3,
   "id": "e7314aee",
   "metadata": {},
   "outputs": [
    {
     "data": {
      "text/plain": [
       "{'symbol': 'ETHUSDT',\n",
       " 'origClientOrderId': 'G6VgmI40rNwSXinCbYvxBB',\n",
       " 'orderId': 4212776884,\n",
       " 'orderListId': -1,\n",
       " 'clientOrderId': 'nDQXHVrynE2ek8pEgiT2ft',\n",
       " 'price': '2450.00000000',\n",
       " 'origQty': '0.00600000',\n",
       " 'executedQty': '0.00000000',\n",
       " 'cummulativeQuoteQty': '0.00000000',\n",
       " 'status': 'CANCELED',\n",
       " 'timeInForce': 'GTC',\n",
       " 'type': 'LIMIT',\n",
       " 'side': 'SELL'}"
      ]
     },
     "execution_count": 3,
     "metadata": {},
     "output_type": "execute_result"
    }
   ],
   "source": [
    "r = client.cancel_order(\n",
    "        symbol='ETHUSDT',\n",
    "        orderId='4212776884'\n",
    "        )\n",
    "r"
   ]
  },
  {
   "cell_type": "code",
   "execution_count": null,
   "id": "5b7664af",
   "metadata": {},
   "outputs": [],
   "source": []
  }
 ],
 "metadata": {
  "kernelspec": {
   "display_name": "Python 3",
   "language": "python",
   "name": "python3"
  },
  "language_info": {
   "codemirror_mode": {
    "name": "ipython",
    "version": 3
   },
   "file_extension": ".py",
   "mimetype": "text/x-python",
   "name": "python",
   "nbconvert_exporter": "python",
   "pygments_lexer": "ipython3",
   "version": "3.8.3"
  }
 },
 "nbformat": 4,
 "nbformat_minor": 5
}
