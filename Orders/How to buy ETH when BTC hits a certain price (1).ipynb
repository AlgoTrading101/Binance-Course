{
 "cells": [
  {
   "cell_type": "code",
   "execution_count": 1,
   "id": "6a260bd2",
   "metadata": {},
   "outputs": [],
   "source": [
    "from binance.client import Client\n",
    "from binance.enums import *\n",
    "from time import sleep\n",
    "\n",
    "api_key = 'aN9heIB2Lr00gi4Yhnixgw3ytPk6Vk0vKpbZhlIvY5ITqmAQpNoR1czppNWb4fBt'\n",
    "api_secret = 'YLuVUYQtub3xL19nazjPNsgd3OEtuEhFwL3cRct7qjQiZnfF7Rp2tHQNdM0aQEuy'\n",
    "\n",
    "client = Client(api_key=api_key, api_secret=api_secret)"
   ]
  },
  {
   "cell_type": "code",
   "execution_count": 2,
   "id": "c4556cde",
   "metadata": {},
   "outputs": [
    {
     "name": "stdout",
     "output_type": "stream",
     "text": [
      "Order placed successfully\n",
      "{'symbol': 'ETHUSDT', 'orderId': 4213475908, 'orderListId': -1, 'clientOrderId': 'ST1N7hPMAg43RW47eQjXKp', 'price': '2364.35000000', 'origQty': '0.00600000', 'executedQty': '0.00600000', 'cummulativeQuoteQty': '14.16672000', 'status': 'FILLED', 'timeInForce': 'GTC', 'type': 'LIMIT', 'side': 'BUY', 'stopPrice': '0.00000000', 'icebergQty': '0.00000000', 'time': 1621700043642, 'updateTime': 1621700043642, 'isWorking': True, 'origQuoteOrderQty': '0.00000000'}\n"
     ]
    }
   ],
   "source": [
    "while True:\n",
    "    try:\n",
    "        ticker = client.get_symbol_ticker(symbol='BTCUSDT')\n",
    "    except Exception as e:\n",
    "        print('Error obtaining ticker data')\n",
    "    \n",
    "    if float(ticker['price']) >= 37600.00:\n",
    "        \n",
    "        try:\n",
    "            limit = client.get_symbol_ticker(symbol='ETHUSDT')\n",
    "        except Exception as e:\n",
    "            print('Error obtaining ticker data')\n",
    "            \n",
    "        try:\n",
    "            order = client.create_order(\n",
    "                            symbol='ETHUSDT',\n",
    "                            side=SIDE_BUY,\n",
    "                            type=ORDER_TYPE_LIMIT,\n",
    "                            quantity=0.006,\n",
    "                            timeInForce=TIME_IN_FORCE_GTC,\n",
    "                            price=float(limit['price'])+3)\n",
    "        except Exception as e:\n",
    "            print('Order Error')\n",
    "        \n",
    "        sleep(2)\n",
    "        \n",
    "        try:\n",
    "            status = client.get_order(symbol='ETHUSDT', orderId=order['orderId'])\n",
    "        except Exception as e:\n",
    "            print('Error obtaining order status')\n",
    "        \n",
    "        if status['status'] == 'FILLED':\n",
    "            print('Order placed successfully')\n",
    "            print(status)\n",
    "            break\n",
    "        else:\n",
    "            print('Order was rejected')\n",
    "            break\n",
    "    else:\n",
    "        sleep(30)\n",
    "        continue"
   ]
  },
  {
   "cell_type": "code",
   "execution_count": null,
   "id": "d71b5ce4",
   "metadata": {},
   "outputs": [],
   "source": []
  }
 ],
 "metadata": {
  "kernelspec": {
   "display_name": "Python 3",
   "language": "python",
   "name": "python3"
  },
  "language_info": {
   "codemirror_mode": {
    "name": "ipython",
    "version": 3
   },
   "file_extension": ".py",
   "mimetype": "text/x-python",
   "name": "python",
   "nbconvert_exporter": "python",
   "pygments_lexer": "ipython3",
   "version": "3.8.3"
  }
 },
 "nbformat": 4,
 "nbformat_minor": 5
}
