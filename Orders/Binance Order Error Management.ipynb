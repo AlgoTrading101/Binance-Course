{
 "cells": [
  {
   "cell_type": "code",
   "execution_count": 1,
   "id": "ad99daa8",
   "metadata": {},
   "outputs": [],
   "source": [
    "from binance.client import Client\n",
    "from binance.enums import *\n",
    "\n",
    "api_key = 'aN9heIB2Lr00gi4Yhnixgw3ytPk6Vk0vKpbZhlIvY5ITqmAQpNoR1czppNWb4fBt'\n",
    "api_secret = 'YLuVUYQtub3xL19nazjPNsgd3OEtuEhFwL3cRct7qjQiZnfF7Rp2tHQNdM0aQEuy'\n",
    "\n",
    "client = Client(api_key=api_key, api_secret=api_secret)"
   ]
  },
  {
   "cell_type": "code",
   "execution_count": 4,
   "id": "5b03dc24",
   "metadata": {},
   "outputs": [
    {
     "name": "stdout",
     "output_type": "stream",
     "text": [
      "Order Error\n"
     ]
    }
   ],
   "source": [
    "try:\n",
    "    order = client.create_order(\n",
    "                    symbol='ETHUSDT',\n",
    "                    side=SIDE_SELL,\n",
    "                    type=ORDER_TYPE_LIMIT,\n",
    "                    quantity=0.007,\n",
    "                    timeInForce=TIME_IN_FORCE_GTC,\n",
    "                    price='2365')\n",
    "    \n",
    "except Exception as e:\n",
    "    print('Order Error')\n",
    "\n",
    "order"
   ]
  },
  {
   "cell_type": "code",
   "execution_count": null,
   "id": "f67836b4",
   "metadata": {},
   "outputs": [],
   "source": []
  }
 ],
 "metadata": {
  "kernelspec": {
   "display_name": "Python 3",
   "language": "python",
   "name": "python3"
  },
  "language_info": {
   "codemirror_mode": {
    "name": "ipython",
    "version": 3
   },
   "file_extension": ".py",
   "mimetype": "text/x-python",
   "name": "python",
   "nbconvert_exporter": "python",
   "pygments_lexer": "ipython3",
   "version": "3.8.3"
  }
 },
 "nbformat": 4,
 "nbformat_minor": 5
}
