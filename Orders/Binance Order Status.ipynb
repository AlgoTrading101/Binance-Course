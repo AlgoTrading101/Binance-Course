{
 "cells": [
  {
   "cell_type": "code",
   "execution_count": 1,
   "id": "ad99daa8",
   "metadata": {},
   "outputs": [],
   "source": [
    "from binance.client import Client\n",
    "from binance.enums import *\n",
    "\n",
    "api_key = 'aN9heIB2Lr00gi4Yhnixgw3ytPk6Vk0vKpbZhlIvY5ITqmAQpNoR1czppNWb4fBt'\n",
    "api_secret = 'YLuVUYQtub3xL19nazjPNsgd3OEtuEhFwL3cRct7qjQiZnfF7Rp2tHQNdM0aQEuy'\n",
    "\n",
    "client = Client(api_key=api_key, api_secret=api_secret)"
   ]
  },
  {
   "cell_type": "code",
   "execution_count": 2,
   "id": "5b7664af",
   "metadata": {},
   "outputs": [
    {
     "data": {
      "text/plain": [
       "{'symbol': 'ETHUSDT',\n",
       " 'orderId': 4212520843,\n",
       " 'orderListId': -1,\n",
       " 'clientOrderId': 'xykrIgsIvxsbhQyVUA3txw',\n",
       " 'price': '2360.00000000',\n",
       " 'origQty': '0.00700000',\n",
       " 'executedQty': '0.00700000',\n",
       " 'cummulativeQuoteQty': '16.35473000',\n",
       " 'status': 'FILLED',\n",
       " 'timeInForce': 'GTC',\n",
       " 'type': 'LIMIT',\n",
       " 'side': 'BUY',\n",
       " 'stopPrice': '0.00000000',\n",
       " 'icebergQty': '0.00000000',\n",
       " 'time': 1621696225353,\n",
       " 'updateTime': 1621696225353,\n",
       " 'isWorking': True,\n",
       " 'origQuoteOrderQty': '0.00000000'}"
      ]
     },
     "execution_count": 2,
     "metadata": {},
     "output_type": "execute_result"
    }
   ],
   "source": [
    "status = client.get_order(symbol='ETHUSDT', orderId='4212520843')\n",
    "status"
   ]
  },
  {
   "cell_type": "code",
   "execution_count": null,
   "id": "68dbd367",
   "metadata": {},
   "outputs": [],
   "source": []
  }
 ],
 "metadata": {
  "kernelspec": {
   "display_name": "Python 3",
   "language": "python",
   "name": "python3"
  },
  "language_info": {
   "codemirror_mode": {
    "name": "ipython",
    "version": 3
   },
   "file_extension": ".py",
   "mimetype": "text/x-python",
   "name": "python",
   "nbconvert_exporter": "python",
   "pygments_lexer": "ipython3",
   "version": "3.8.3"
  }
 },
 "nbformat": 4,
 "nbformat_minor": 5
}
