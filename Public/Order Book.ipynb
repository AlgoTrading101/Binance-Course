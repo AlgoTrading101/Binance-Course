{
 "cells": [
  {
   "cell_type": "code",
   "execution_count": 1,
   "id": "ad99daa8",
   "metadata": {},
   "outputs": [],
   "source": [
    "from binance.client import Client\n",
    "client = Client()"
   ]
  },
  {
   "cell_type": "code",
   "execution_count": 4,
   "id": "5b03dc24",
   "metadata": {},
   "outputs": [
    {
     "data": {
      "text/plain": [
       "{'lastUpdateId': 7902462098,\n",
       " 'bids': [['1918.79000000', '1.63698000'],\n",
       "  ['1918.40000000', '0.19770000'],\n",
       "  ['1918.09000000', '0.60813000'],\n",
       "  ['1918.08000000', '0.70701000'],\n",
       "  ['1918.06000000', '1.03052000']],\n",
       " 'asks': [['1918.80000000', '0.27171000'],\n",
       "  ['1919.16000000', '0.43782000'],\n",
       "  ['1919.17000000', '0.90371000'],\n",
       "  ['1919.39000000', '0.40918000'],\n",
       "  ['1919.43000000', '0.86401000']]}"
      ]
     },
     "execution_count": 4,
     "metadata": {},
     "output_type": "execute_result"
    }
   ],
   "source": [
    "order = client.get_order_book(symbol='ETHUSDT', limit=5)\n",
    "order"
   ]
  },
  {
   "cell_type": "code",
   "execution_count": null,
   "id": "e7314aee",
   "metadata": {},
   "outputs": [],
   "source": []
  }
 ],
 "metadata": {
  "kernelspec": {
   "display_name": "Python 3",
   "language": "python",
   "name": "python3"
  },
  "language_info": {
   "codemirror_mode": {
    "name": "ipython",
    "version": 3
   },
   "file_extension": ".py",
   "mimetype": "text/x-python",
   "name": "python",
   "nbconvert_exporter": "python",
   "pygments_lexer": "ipython3",
   "version": "3.8.3"
  }
 },
 "nbformat": 4,
 "nbformat_minor": 5
}
