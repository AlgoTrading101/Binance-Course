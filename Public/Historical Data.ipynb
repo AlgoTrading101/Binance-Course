{
 "cells": [
  {
   "cell_type": "code",
   "execution_count": 1,
   "id": "53deb5d5",
   "metadata": {},
   "outputs": [],
   "source": [
    "from binance.client import Client\n",
    "client = Client()"
   ]
  },
  {
   "cell_type": "code",
   "execution_count": 3,
   "id": "392cf192",
   "metadata": {},
   "outputs": [
    {
     "data": {
      "text/plain": [
       "[[1578441600000,\n",
       "  '142.80000000',\n",
       "  '143.73000000',\n",
       "  '142.71000000',\n",
       "  '143.51000000',\n",
       "  '3775.68532000',\n",
       "  1578441899999,\n",
       "  '540797.93620620',\n",
       "  1395,\n",
       "  '1971.89789000',\n",
       "  '282433.98096430',\n",
       "  '0']]"
      ]
     },
     "execution_count": 3,
     "metadata": {},
     "output_type": "execute_result"
    }
   ],
   "source": [
    "data = client.get_klines(symbol='ETHUSDT', interval='5m', startTime=1578441400000, endTime=1578441600000)\n",
    "data"
   ]
  }
 ],
 "metadata": {
  "kernelspec": {
   "display_name": "Python 3",
   "language": "python",
   "name": "python3"
  },
  "language_info": {
   "codemirror_mode": {
    "name": "ipython",
    "version": 3
   },
   "file_extension": ".py",
   "mimetype": "text/x-python",
   "name": "python",
   "nbconvert_exporter": "python",
   "pygments_lexer": "ipython3",
   "version": "3.8.3"
  }
 },
 "nbformat": 4,
 "nbformat_minor": 5
}
