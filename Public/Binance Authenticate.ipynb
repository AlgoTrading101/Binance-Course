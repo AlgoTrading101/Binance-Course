{
 "cells": [
  {
   "cell_type": "code",
   "execution_count": null,
   "id": "9534eceb",
   "metadata": {},
   "outputs": [],
   "source": [
    "import os, hmac, hashlib, json\n",
    "from urllib.parse import urlencode\n",
    "\n",
    "def bin_auth(api_key, api_secret, params, endpoint):\n",
    "    '''\n",
    "    Authenticate.\n",
    "    Input:  api_key : str\n",
    "            api_secret : str\n",
    "            params : dict\n",
    "            endpoint : str\n",
    "    Return: url, headers\n",
    "    '''\n",
    "    signature = hmac.new(api_secret.encode('utf-8'), urlencode(params).encode('utf-8'), hashlib.sha256).hexdigest()\n",
    "    url = str(endpoint) + urlencode(params) + f\"&signature={signature}\"\n",
    "    headers = {'Content-Type': 'application/json;charset=utf-8',\n",
    "               'X-MBX-APIKEY': api_key\n",
    "            }\n",
    "    return url, headers"
   ]
  },
  {
   "cell_type": "code",
   "execution_count": null,
   "id": "71230b70",
   "metadata": {},
   "outputs": [],
   "source": [
    "api_key = os.environ.get('api_key')\n",
    "api_secret = os.environ.get('api_secret_key')\n",
    "\n",
    "endpoint = \"https://fapi.binance.com/fapi/v1/trades?\"\n",
    "\n",
    "params = {\"symbol\":\"ADAUSDT\",\n",
    "          \"limit\":3}\n"
   ]
  },
  {
   "cell_type": "code",
   "execution_count": null,
   "id": "8a570cdc",
   "metadata": {},
   "outputs": [],
   "source": [
    "signature = hmac.new(api_secret.encode('utf-8'), urlencode(params).encode('utf-8'), hashlib.sha256).hexdigest()\n",
    "signature"
   ]
  },
  {
   "cell_type": "code",
   "execution_count": null,
   "id": "365943aa",
   "metadata": {},
   "outputs": [],
   "source": [
    "urlencode(params).encode('utf-8')"
   ]
  },
  {
   "cell_type": "code",
   "execution_count": null,
   "id": "17e3112c",
   "metadata": {},
   "outputs": [],
   "source": [
    "url = str(endpoint) + urlencode(params) + f\"&signature={signature}\"\n",
    "url"
   ]
  }
 ],
 "metadata": {
  "kernelspec": {
   "display_name": "Python 3",
   "language": "python",
   "name": "python3"
  },
  "language_info": {
   "codemirror_mode": {
    "name": "ipython",
    "version": 3
   },
   "file_extension": ".py",
   "mimetype": "text/x-python",
   "name": "python",
   "nbconvert_exporter": "python",
   "pygments_lexer": "ipython3",
   "version": "3.8.3"
  }
 },
 "nbformat": 4,
 "nbformat_minor": 5
}
